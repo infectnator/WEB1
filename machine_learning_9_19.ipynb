{
  "nbformat": 4,
  "nbformat_minor": 0,
  "metadata": {
    "colab": {
      "private_outputs": true,
      "provenance": [],
      "collapsed_sections": [],
      "authorship_tag": "ABX9TyN6cup6G4jhDgfljtcy5+aE",
      "include_colab_link": true
    },
    "kernelspec": {
      "name": "python3",
      "display_name": "Python 3"
    },
    "language_info": {
      "name": "python"
    }
  },
  "cells": [
    {
      "cell_type": "markdown",
      "metadata": {
        "id": "view-in-github",
        "colab_type": "text"
      },
      "source": [
        "<a href=\"https://colab.research.google.com/github/infectnator/WEB1/blob/main/machine_learning_9_19.ipynb\" target=\"_parent\"><img src=\"https://colab.research.google.com/assets/colab-badge.svg\" alt=\"Open In Colab\"/></a>"
      ]
    },
    {
      "cell_type": "code",
      "execution_count": null,
      "metadata": {
        "id": "-lb9HQpFQ2i1"
      },
      "outputs": [],
      "source": []
    },
    {
      "cell_type": "code",
      "source": [
        "#7페이지: 홀드 아웃 방법의 이론과 실현\n",
        "from sklearn import datasets\n",
        "from sklearn.model_selection import train_test_split\n",
        "\n",
        "#Iris라는 데이터 세트를 읽음\n",
        "iris = datasets.load_iris()\n",
        "X = iris.data\n",
        "y = iris.target\n",
        "\n",
        "#X_train, X_test, y_train, y_test에 데이터를 저장합니다.\n",
        "X_train, X_test,y_train, y_test = train_test_split(X,y,test_size=0.2,random_state=0)\n",
        "\n",
        "#훈련 데이터와 테스트 데이터의 사이즈를 확인합니다.\n",
        "print(\"X_train :\" ,X_train.shape)\n",
        "print(\"y_train :\" ,y_train.shape)\n",
        "print(\"X_test :\" ,X_test.shape)\n",
        "print(\"y_test :\" ,y_test.shape)"
      ],
      "metadata": {
        "id": "Dw31RoLLQ_gI"
      },
      "execution_count": null,
      "outputs": []
    },
    {
      "cell_type": "code",
      "source": [
        "#8페이지: k-분활 교차 검증의 실현\n",
        "# 코드의 실행에 필요한 모듈을 로드합니다.\n",
        "from sklearn import svm, datasets, model_selection\n",
        "\n",
        "#\"Iris\"라는 데이터 세트를 가져옵니다.\n",
        "Iris = datasets.load_iris()\n",
        "X = iris.data\n",
        "y = iris.target\n",
        "print(X,'\\n',y,'\\n')\n",
        "# 머신 러닝 알고리즘 SVM을 사용합니다.\n",
        "svc = svm.SVC(C=1, kernel = \"rbf\",gamma = 0.001)\n",
        "\n",
        "#교차 검증법을 이용하여 점수를 요구합니다.\n",
        "#내부에서는 X,y가 각각 X_train, X_test, y_train, y_test처럼 분할 처리됩니다.\n",
        "scores = model_selection.cross_val_score(svc,X,y,cv=5)\n",
        "\n",
        "#학습 데이터와 테스트 데이터의 크기를 확인합니다.\n",
        "print (scores)\n",
        "print (\"평균 점수:\",scores.mean())\n"
      ],
      "metadata": {
        "id": "0NPbpw_bSo8x"
      },
      "execution_count": null,
      "outputs": []
    },
    {
      "cell_type": "code",
      "source": [
        "#10페이지: 과적합의 회피\n",
        "import pandas as pd\n",
        "\n",
        "df = pd.read_csv('https://archive.ics.uci.edu/ml/'\n",
        "        'machine-learning-databases/iris/iris.data', header = None)\n",
        "#data frame\n",
        "#df.head()\n",
        "#df.tail()"
      ],
      "metadata": {
        "id": "Z721mqU1WYmS"
      },
      "execution_count": null,
      "outputs": []
    },
    {
      "cell_type": "code",
      "source": [
        "#10페이지 추가 코드 0~50 Iris-setosa 51~100 Iris versicolor\n",
        "df.iloc[0:100].values"
      ],
      "metadata": {
        "id": "lt8U_0cbW7Z0"
      },
      "execution_count": null,
      "outputs": []
    },
    {
      "cell_type": "code",
      "source": [
        "print(df)"
      ],
      "metadata": {
        "id": "6JCtd-ZLXCB6"
      },
      "execution_count": null,
      "outputs": []
    },
    {
      "cell_type": "code",
      "source": [
        "#10페이지: select setosa and versicolor\n",
        "import numpy as np\n",
        "\n",
        "\n",
        "y = df.iloc[0:100,4].values #인덱스 4값만 출력\n",
        "print(y)\n",
        "\n",
        "y = np.where(y == 'Iris-setosa',-1,1)#y가 iris setosa와 같으면 -1 그렇지않으면 1\n",
        "print(y)\n",
        "\n",
        "X = df.iloc[0:100,[0,2]].values #0~99Rkwl [0,2]인덱스 값만 출력\n",
        "print(X)"
      ],
      "metadata": {
        "id": "A9DCV8UUiO23"
      },
      "execution_count": null,
      "outputs": []
    },
    {
      "cell_type": "code",
      "source": [
        "#11페이지: plotting Iris data\n",
        "\n",
        "%matplotlib inline\n",
        "import matplotlib.pyplot as plt\n",
        "import numpy as np\n",
        "\n",
        "#select setosa and versicolor\n",
        "y = df.iloc[0:100,4].values\n",
        "y = np.where(y == 'Iris-setosa',-1,1)\n",
        "\n",
        "#extract sepal length and petal length\n",
        "X = df.iloc[0:100,[0,2]].values\n",
        "\n",
        "#plot data\n",
        "plt.scatter(X[:100,0],X[:100,1],color='red',marker='o',label = 'setosa')\n",
        "\n",
        "plt.scatter(X[50:100,0],X[50:100,1],color='blue',marker='x',label = 'versicolor')\n",
        "\n",
        "plt.xlabel('sepal length [cm]')\n",
        "plt.ylabel('petal length [cm]')\n",
        "plt.legend(loc='upper left')\n",
        "\n",
        "plt.tight_layout()\n",
        "#plt.savefig('./images/02_06',dpi=300)\n",
        "plt.show"
      ],
      "metadata": {
        "id": "kbRrc6V_rhRg"
      },
      "execution_count": null,
      "outputs": []
    },
    {
      "cell_type": "code",
      "source": [
        "import "
      ],
      "metadata": {
        "id": "hzqPk2MGzGYT"
      },
      "execution_count": null,
      "outputs": []
    }
  ]
}